{
 "cells": [
  {
   "cell_type": "code",
   "execution_count": null,
   "metadata": {},
   "outputs": [],
   "source": [
    "pip install pyomo"
   ]
  },
  {
   "cell_type": "code",
   "execution_count": null,
   "metadata": {},
   "outputs": [],
   "source": [
    "# from collections import defaultdict\n",
    "from pyomo.util.infeasible import log_infeasible_constraints\n",
    "\n",
    "from pyomo.environ import *\n",
    "from pyomo.opt import SolverFactory\n",
    "import pandas as pd\n",
    "import numpy as np\n",
    "import datetime\n",
    "from datetime import timedelta"
   ]
  },
  {
   "cell_type": "code",
   "execution_count": null,
   "metadata": {},
   "outputs": [],
   "source": [
    "pd.set_option('display.max_columns', 20)"
   ]
  },
  {
   "cell_type": "code",
   "execution_count": null,
   "metadata": {},
   "outputs": [],
   "source": [
    "def remove_nan(dic):  # remove nan from a dictionary\n",
    "    for k in dic.keys():\n",
    "        for v in range(len(dic[k])):\n",
    "            try:\n",
    "                if np.isnan(dic[k][v]):\n",
    "                    del dic[k][v]\n",
    "            except:\n",
    "                pass\n",
    "    return dic\n"
   ]
  },
  {
   "cell_type": "markdown",
   "metadata": {},
   "source": [
    "## Reading Input Data"
   ]
  },
  {
   "cell_type": "markdown",
   "metadata": {},
   "source": [
    "### Employee Requirement For Assignment"
   ]
  },
  {
   "cell_type": "markdown",
   "metadata": {},
   "source": [
    "#### Read Day1 data"
   ]
  },
  {
   "cell_type": "code",
   "execution_count": null,
   "metadata": {},
   "outputs": [],
   "source": [
    "# Employee Requirement for Assignment in each TSlot\n",
    "TimeAssEmpReq1 = pd.read_csv('Data/Day_01/Time_Ass_Req_Schedule.csv', index_col=False)\n",
    "\n",
    "# #TimeAssEmpReq['Time'] = TimeAssEmpReq['Time'].str.split(' ').str[0].replace(':', '.', regex=True).str.strip(\"0\")\n",
    "TimeAssEmpReq1['Time'] = TimeAssEmpReq1['Time'].str.split(' ').str[0]\n",
    "# #timeDF=(pd.to_timedelta(TimeAssEmpReq['Time'].str.strip()))\n",
    "TimeAssEmpReq1['Time']=(pd.to_datetime(TimeAssEmpReq1['Time'].str.strip(), format='%H:%M:%S')).dt.time\n",
    "TimeAssEmpReq1.head()"
   ]
  },
  {
   "cell_type": "markdown",
   "metadata": {},
   "source": [
    "#### Read Day2 data"
   ]
  },
  {
   "cell_type": "code",
   "execution_count": null,
   "metadata": {
    "scrolled": true
   },
   "outputs": [],
   "source": [
    "# Employee Requirement for Assignment in each TSlot\n",
    "TimeAssEmpReq2 = pd.read_csv('Data/Day_02/Time_Ass_Req_Schedule2.csv', index_col=False)\n",
    "\n",
    "# #TimeAssEmpReq['Time'] = TimeAssEmpReq['Time'].str.split(' ').str[0].replace(':', '.', regex=True).str.strip(\"0\")\n",
    "TimeAssEmpReq2['Time'] = TimeAssEmpReq2['Time'].str.split(' ').str[0]\n",
    "# #timeDF=(pd.to_timedelta(TimeAssEmpReq['Time'].str.strip()))\n",
    "TimeAssEmpReq2['Time']=(pd.to_datetime(TimeAssEmpReq2['Time'].str.strip(), format='%H:%M:%S')).dt.time\n",
    "\n",
    "TimeAssEmpReq2.head()\n"
   ]
  },
  {
   "cell_type": "code",
   "execution_count": null,
   "metadata": {},
   "outputs": [],
   "source": [
    "TimeAssEmpReq = pd.concat([TimeAssEmpReq1, TimeAssEmpReq2])\n",
    "TimeAssEmpReq.head()"
   ]
  },
  {
   "cell_type": "markdown",
   "metadata": {},
   "source": [
    "### Employee Eligibility Details"
   ]
  },
  {
   "cell_type": "markdown",
   "metadata": {},
   "source": [
    "#### Day1"
   ]
  },
  {
   "cell_type": "code",
   "execution_count": null,
   "metadata": {},
   "outputs": [],
   "source": [
    "# define employees\n",
    "EmpData1 = pd.read_csv('Data/Day_01/EmpTasks.csv', index_col=False)\n",
    "EmpData1.head()"
   ]
  },
  {
   "cell_type": "markdown",
   "metadata": {},
   "source": [
    "#### Day2"
   ]
  },
  {
   "cell_type": "code",
   "execution_count": null,
   "metadata": {},
   "outputs": [],
   "source": [
    "EmpData2 = pd.read_csv('Data/Day_02/EmpTasks2.csv', index_col=False)\n",
    "EmpData2.head()"
   ]
  },
  {
   "cell_type": "code",
   "execution_count": null,
   "metadata": {
    "scrolled": true
   },
   "outputs": [],
   "source": [
    "EmpData = pd.concat([EmpData1, EmpData2])\n",
    "EmpData.head()"
   ]
  },
  {
   "cell_type": "markdown",
   "metadata": {},
   "source": [
    "#### Weekly"
   ]
  },
  {
   "cell_type": "code",
   "execution_count": null,
   "metadata": {
    "scrolled": true
   },
   "outputs": [],
   "source": [
    "# Read eligibility of employees\n",
    "eligibility = pd.read_csv('Data/Weekly/Eligibility.csv', index_col=False)\n",
    "\n",
    "# Eligible Employees\n",
    "eligibleDfTemp = eligibility.loc[eligibility['Eligibility'] == 'yes']\n",
    "eligibleDf = eligibleDfTemp[['Day', 'Employee']]\n",
    "eligibleDfWithTime = eligibleDfTemp[['Day', 'Employee', 'Start_Time', 'End_Time']]\n",
    "# Ineligible Employees\n",
    "ineligibleDfTemp = eligibility.loc[eligibility['Eligibility'] == 'no']\n",
    "ineligibleDf = ineligibleDfTemp[['Day', 'Employee']]\n",
    "\n"
   ]
  },
  {
   "cell_type": "code",
   "execution_count": null,
   "metadata": {},
   "outputs": [],
   "source": [
    "# Eligible and ineligible employee dataframes to lists\n",
    "\n",
    "# Eligible List\n",
    "eligibleList = [tuple(x) for x in eligibleDf.to_numpy()]\n",
    "eligibleListWithTime = [tuple(x) for x in eligibleDfWithTime.to_numpy()]\n",
    "\n",
    "# Ineligible List\n",
    "ineligibleList = [tuple(x) for x in ineligibleDf.to_numpy()]\n",
    "eligibleListWithTime"
   ]
  },
  {
   "cell_type": "markdown",
   "metadata": {},
   "source": [
    "### Input Data Dictionaries"
   ]
  },
  {
   "cell_type": "code",
   "execution_count": null,
   "metadata": {},
   "outputs": [],
   "source": [
    "# define Days\n",
    "Days = TimeAssEmpReq.Day.unique()\n",
    "print(Days)"
   ]
  },
  {
   "cell_type": "code",
   "execution_count": null,
   "metadata": {},
   "outputs": [],
   "source": [
    "# define Time Slots\n",
    "TSlots = TimeAssEmpReq.Time.unique()\n",
    "print(TSlots)"
   ]
  },
  {
   "cell_type": "code",
   "execution_count": null,
   "metadata": {},
   "outputs": [],
   "source": [
    "Employees = EmpData.Employee.unique()\n",
    "print(Employees)"
   ]
  },
  {
   "cell_type": "code",
   "execution_count": null,
   "metadata": {},
   "outputs": [],
   "source": [
    "# Assignments\n",
    "Assignments = TimeAssEmpReq.Assignment.unique()\n",
    "Assignments"
   ]
  },
  {
   "cell_type": "code",
   "execution_count": null,
   "metadata": {},
   "outputs": [],
   "source": [
    "# Assignments for date and timeslot\n",
    "AssTslots = TimeAssEmpReq.groupby(['Day','Time'])['Assignment'].apply(list).to_dict()\n",
    "Ass_Tslots = remove_nan(AssTslots)\n",
    "print(AssTslots)"
   ]
  },
  {
   "cell_type": "code",
   "execution_count": null,
   "metadata": {
    "scrolled": true
   },
   "outputs": [],
   "source": [
    "# Employee Eligibility for each assignments\n",
    "Emp_Elig = EmpData.groupby(['Day','Employee'])['Task'].apply(list).to_dict()\n",
    "Emp_Elig = remove_nan(Emp_Elig)\n",
    "print(Emp_Elig)\n"
   ]
  },
  {
   "cell_type": "markdown",
   "metadata": {},
   "source": [
    "### Employee Min Max Hours"
   ]
  },
  {
   "cell_type": "markdown",
   "metadata": {},
   "source": [
    "#### Day1"
   ]
  },
  {
   "cell_type": "code",
   "execution_count": null,
   "metadata": {
    "scrolled": true
   },
   "outputs": [],
   "source": [
    "EmpWorkHours1 = pd.read_csv('Data/Day_01/EmpWorkHours.csv', index_col=False)\n",
    "EmpWorkHours1.head()"
   ]
  },
  {
   "cell_type": "markdown",
   "metadata": {},
   "source": [
    "#### Day2"
   ]
  },
  {
   "cell_type": "code",
   "execution_count": null,
   "metadata": {
    "scrolled": true
   },
   "outputs": [],
   "source": [
    "EmpWorkHours2 = pd.read_csv('Data/Day_02/EmpWorkHours2.csv', index_col=False)\n",
    "EmpWorkHours2.head()"
   ]
  },
  {
   "cell_type": "code",
   "execution_count": null,
   "metadata": {},
   "outputs": [],
   "source": [
    "EmpWorkHours = pd.concat([EmpWorkHours1,EmpWorkHours2])\n",
    "EmpWorkHours.head()"
   ]
  },
  {
   "cell_type": "code",
   "execution_count": null,
   "metadata": {},
   "outputs": [],
   "source": [
    "#Dictionaries of Min Max hours\n",
    "EmpMinWork = pd.Series(EmpWorkHours.Min_Work.values, index=[EmpWorkHours.Day,EmpWorkHours.Employee]).to_dict()\n",
    "EmpMaxWork = pd.Series(EmpWorkHours.Max_Work.values, index=[EmpWorkHours.Day,EmpWorkHours.Employee]).to_dict()\n",
    "print(EmpMaxWork)"
   ]
  },
  {
   "cell_type": "markdown",
   "metadata": {},
   "source": [
    "#### Weekly Min Max hours and days"
   ]
  },
  {
   "cell_type": "code",
   "execution_count": null,
   "metadata": {
    "scrolled": true
   },
   "outputs": [],
   "source": [
    "EmpWeekly = pd.read_csv('Data/Weekly/EmpWeeklyHours.csv', index_col=False)\n",
    "EmpWeekly.head()"
   ]
  },
  {
   "cell_type": "code",
   "execution_count": null,
   "metadata": {},
   "outputs": [],
   "source": [
    "EmpWeeklyMinHours = pd.Series(EmpWeekly.Min_Hours.values, index=EmpWeekly.Employee).to_dict()\n",
    "EmpWeeklyMaxHours = pd.Series(EmpWeekly.Max_Hours.values, index=EmpWeekly.Employee).to_dict()\n",
    "EmpWeeklyMaxDays = pd.Series(EmpWeekly.Max_days.values, index=EmpWeekly.Employee).to_dict()\n",
    "print(EmpWeeklyMaxHours)"
   ]
  },
  {
   "cell_type": "markdown",
   "metadata": {},
   "source": [
    "#### Pinned Task data"
   ]
  },
  {
   "cell_type": "code",
   "execution_count": null,
   "metadata": {},
   "outputs": [],
   "source": [
    "PinnedTasks = pd.read_csv('Data/Weekly/PinnedTasks.csv', index_col=False)\n",
    "PinnedTasks['Time'] = PinnedTasks['Time'].str.split(' ').str[0]\n",
    "# #timeDF=(pd.to_timedelta(TimeAssEmpReq['Time'].str.strip()))\n",
    "PinnedTasks['Time']=(pd.to_datetime(PinnedTasks['Time'].str.strip(), format='%H:%M:%S')).dt.time\n",
    "\n",
    "PinnedTasks.head()"
   ]
  },
  {
   "cell_type": "code",
   "execution_count": null,
   "metadata": {
    "scrolled": true
   },
   "outputs": [],
   "source": [
    "PinnedTaskList = [tuple(x) for x in PinnedTasks.to_numpy()]\n",
    "PinnedTaskList"
   ]
  },
  {
   "cell_type": "markdown",
   "metadata": {},
   "source": [
    "#### Employee Requirement per Assignment and Timeslot"
   ]
  },
  {
   "cell_type": "code",
   "execution_count": null,
   "metadata": {},
   "outputs": [],
   "source": [
    "TimeAssEmpReq.head()"
   ]
  },
  {
   "cell_type": "code",
   "execution_count": null,
   "metadata": {},
   "outputs": [],
   "source": [
    "# Employee Requirement\n",
    "Emp_Req = TimeAssEmpReq.groupby(['Day','Time'])[['Assignment', 'Requirement']] \\\n",
    "    .apply(lambda x: pd.Series(x.Requirement.values, index=x.Assignment).to_dict()).to_dict()\n",
    "\n",
    "print(Emp_Req)"
   ]
  },
  {
   "cell_type": "code",
   "execution_count": null,
   "metadata": {},
   "outputs": [],
   "source": [
    "# convert Emp_Req dictionaries values in to Lists\n",
    "l = []\n",
    "for k in Emp_Req.keys():\n",
    "    a = list(Emp_Req[k].values())\n",
    "    l.append(a)\n",
    "\n",
    "Emp_requiremnt = sum(sum(x) for x in l)  # calculate employee requirement\n",
    "\n",
    "No_of_Assignments = sum([len(x) for x in Ass_Tslots.values()])"
   ]
  },
  {
   "cell_type": "markdown",
   "metadata": {},
   "source": [
    "# Model Creation"
   ]
  },
  {
   "cell_type": "markdown",
   "metadata": {},
   "source": [
    "#### Decision Variables"
   ]
  },
  {
   "cell_type": "code",
   "execution_count": null,
   "metadata": {},
   "outputs": [],
   "source": [
    "# Initialize model\n",
    "model = ConcreteModel()\n",
    "\n",
    "# variable to represent employee allocation to assignments (decision variable)\n",
    "model.works = Var(\n",
    "    (((Employee, Day, TSlot, Assignment) for Employee in Employees for Day in Days for TSlot in TSlots for Assignment in Ass_Tslots[(Day, TSlot)])),\n",
    "    within=Binary, initialize=0)\n",
    "\n",
    "model.MI = Var(bounds=(0, 5))\n",
    "model.MA = Var(bounds=(0, 5))\n",
    "model.MIW = Var(bounds=(0, 10))\n",
    "\n",
    "# variable to represent employee allocation to day (decision variable)\n",
    "model.dayWorks = Var(\n",
    "    ((Employee, Day) for Employee in Employees for Day in Days),\n",
    "    within=Binary, initialize=0)"
   ]
  },
  {
   "cell_type": "code",
   "execution_count": null,
   "metadata": {},
   "outputs": [],
   "source": [
    "def getPreviousTimeslot(TSLOT):\n",
    "    return (datetime.datetime.combine(datetime.date(1, 1, 1), TSLOT) - datetime.timedelta(minutes=15)).time()\n"
   ]
  },
  {
   "cell_type": "markdown",
   "metadata": {},
   "source": [
    "### Objective Function"
   ]
  },
  {
   "cell_type": "code",
   "execution_count": null,
   "metadata": {},
   "outputs": [],
   "source": [
    "# function to define Objective function - original\n",
    "# def obj_rule(m):\n",
    "#     obj = (Emp_requiremnt - sum(\n",
    "#         m.works[Employee, TSlot, Assignment] for Employee in Employees for TSlot in TSlots for Assignment in\n",
    "#         Ass_Tslots[TSlot]) + m.MI)\n",
    "#     return obj"
   ]
  },
  {
   "cell_type": "code",
   "execution_count": null,
   "metadata": {},
   "outputs": [],
   "source": [
    "# function to define Objective function - Minimize idle times between allocations\n",
    "def obj_rule(m):\n",
    "    obj = 3 * (Emp_requiremnt - sum(m.works[Employee, Day, TSlot, Assignment] \n",
    "                for Employee in Employees \n",
    "                for Day in Days\n",
    "                for TSlot in TSlots \n",
    "                for Assignment in Ass_Tslots[(Day,TSlot)]) #Minimize the gap between allocated and scheduled\n",
    "          ) \n",
    "    + m.MI \n",
    "    + m.MIW\n",
    "    + sum((max((value(m.works[Employee, Day, TSlot, Assignment]) - value(m.works[(Employee, Day, getPreviousTimeslot(TSlot), Assignment)])) , \n",
    "               (value(m.works[(Employee, Day, getPreviousTimeslot(TSlot), Assignment)]) - value(m.works[Employee, Day, TSlot, Assignment]) ) )) \n",
    "          for Employee in Employees\n",
    "          for Day in Days\n",
    "          for TSlot in TSlots[1:] \n",
    "          for Assignment in Ass_Tslots[(Day,TSlot)] \n",
    "          if (Employee, Day, getPreviousTimeslot(TSlot), Assignment) in m.works)\n",
    "    \n",
    "    return obj"
   ]
  },
  {
   "cell_type": "code",
   "execution_count": null,
   "metadata": {},
   "outputs": [],
   "source": [
    "# Add Objective function to the model\n",
    "model.obj = Objective(rule=obj_rule, sense=minimize)"
   ]
  },
  {
   "cell_type": "markdown",
   "metadata": {},
   "source": [
    "### Constraints"
   ]
  },
  {
   "cell_type": "code",
   "execution_count": null,
   "metadata": {},
   "outputs": [],
   "source": [
    "# Model constraints\n",
    "model.constraints = ConstraintList()  # Create a Set of Constraints"
   ]
  },
  {
   "cell_type": "markdown",
   "metadata": {},
   "source": [
    "#### 1. Employee Allocation <= Requirement"
   ]
  },
  {
   "cell_type": "code",
   "execution_count": null,
   "metadata": {},
   "outputs": [],
   "source": [
    "# Maximum Employee Requirement\n",
    "for Day in Days:\n",
    "    for TSlot in TSlots:\n",
    "        for Assignment in Ass_Tslots[(Day,TSlot)]:\n",
    "            model.constraints.add(\n",
    "                Emp_Req[(Day,TSlot)][Assignment] >= sum(model.works[Employee, Day, TSlot, Assignment] for Employee in Employees)\n",
    "            )"
   ]
  },
  {
   "cell_type": "markdown",
   "metadata": {},
   "source": [
    "#### 2. Daily Max work hours"
   ]
  },
  {
   "cell_type": "code",
   "execution_count": null,
   "metadata": {},
   "outputs": [],
   "source": [
    "# Max Work Hours\n",
    "for Employee in Employees:\n",
    "    model.constraints.add(\n",
    "        EmpMaxWork[(Day, Employee)] >= 0.25 * sum(\n",
    "            model.works[Employee, Day, TSlot, Assignment] for Day in Days for TSlot in TSlots for Assignment in Ass_Tslots[(Day, TSlot)])\n",
    "    )"
   ]
  },
  {
   "cell_type": "markdown",
   "metadata": {},
   "source": [
    "#### 3. Daily Min work hours"
   ]
  },
  {
   "cell_type": "code",
   "execution_count": null,
   "metadata": {},
   "outputs": [],
   "source": [
    "# Min Work Hours\n",
    "for Employee in Employees:\n",
    "    model.constraints.add(\n",
    "        EmpMinWork[(Day,Employee)] <= 0.25 * sum(\n",
    "            model.works[Employee, Day, TSlot, Assignment] for Day in Days for TSlot in TSlots for Assignment in Ass_Tslots[(Day,TSlot)]) + model.MI\n",
    "    )"
   ]
  },
  {
   "cell_type": "markdown",
   "metadata": {},
   "source": [
    "#### 4. No overlapping assignments for employees"
   ]
  },
  {
   "cell_type": "code",
   "execution_count": null,
   "metadata": {},
   "outputs": [],
   "source": [
    "# No allocation for overlapping Assignments\n",
    "for Employee in Employees:\n",
    "    for Day in Days:\n",
    "        for TSlot in TSlots:\n",
    "            model.constraints.add(\n",
    "                1 >= sum(model.works[Employee, Day, TSlot, Assignment] for Assignment in Ass_Tslots[(Day,TSlot)])\n",
    "            )"
   ]
  },
  {
   "cell_type": "markdown",
   "metadata": {},
   "source": [
    "#### 5. Employee eligibility to task"
   ]
  },
  {
   "cell_type": "code",
   "execution_count": null,
   "metadata": {},
   "outputs": [],
   "source": [
    "# Employee Eligibility to Allocate to Assignments (remove this with decision variable)\n",
    "for Employee in Employees:\n",
    "    for (Day,TSlot) in Ass_Tslots:\n",
    "        for Assignment in list(set(Ass_Tslots[(Day,TSlot)]).intersection(set(Assignments) - set(Emp_Elig[(Day,Employee)]))):\n",
    "            model.constraints.add(\n",
    "                0 == model.works[Employee, Day, TSlot, Assignment]\n",
    "            )"
   ]
  },
  {
   "cell_type": "markdown",
   "metadata": {},
   "source": [
    "#### 6. Weekly Min work hours"
   ]
  },
  {
   "cell_type": "code",
   "execution_count": null,
   "metadata": {},
   "outputs": [],
   "source": [
    "#Weekly Min Work Hours\n",
    "for Employee in Employees:\n",
    "    model.constraints.add(\n",
    "        EmpWeeklyMinHours[Employee] <= 0.25 * sum(\n",
    "            model.works[Employee, Day, TSlot, Assignment] for Day in Days for TSlot in TSlots for Assignment in Ass_Tslots[(Day, TSlot)]) + model.MIW\n",
    "    )"
   ]
  },
  {
   "cell_type": "markdown",
   "metadata": {},
   "source": [
    "#### 7. Weekly Max work hours"
   ]
  },
  {
   "cell_type": "code",
   "execution_count": null,
   "metadata": {},
   "outputs": [],
   "source": [
    "EmpWeeklyMinHours"
   ]
  },
  {
   "cell_type": "code",
   "execution_count": null,
   "metadata": {},
   "outputs": [],
   "source": [
    "# Weekly Max Work Hours\n",
    "for Employee in Employees:\n",
    "    model.constraints.add(\n",
    "        EmpWeeklyMaxHours[Employee] >= 0.25 * sum(\n",
    "            model.works[Employee, Day, TSlot, Assignment] for Day in Days for TSlot in TSlots for Assignment in Assignments if (Employee, Day, TSlot, Assignment) in model.works ) \n",
    "    )"
   ]
  },
  {
   "cell_type": "markdown",
   "metadata": {},
   "source": [
    "#### 8. Weekly Max days"
   ]
  },
  {
   "cell_type": "code",
   "execution_count": null,
   "metadata": {},
   "outputs": [],
   "source": [
    "for Employee in Employees:\n",
    "    model.constraints.add(\n",
    "        EmpWeeklyMaxDays[Employee] >= sum(\n",
    "            model.dayWorks[Employee, Day] for Day in Days) \n",
    "    )"
   ]
  },
  {
   "cell_type": "markdown",
   "metadata": {},
   "source": [
    "#### Link employee assignment for timeslot with employee assignment for day"
   ]
  },
  {
   "cell_type": "code",
   "execution_count": null,
   "metadata": {},
   "outputs": [],
   "source": [
    "for Employee in Employees:\n",
    "    for Day in Days:\n",
    "        model.constraints.add(\n",
    "            0.25 * sum(model.works[Employee, Day, TSlot, Assignment] for TSlot in TSlots for Assignment in Ass_Tslots[(Day, TSlot)]) <= EmpMaxWork[(Day, Employee)] * model.dayWorks[Employee, Day]\n",
    "        )"
   ]
  },
  {
   "cell_type": "code",
   "execution_count": null,
   "metadata": {},
   "outputs": [],
   "source": [
    "for Employee in Employees:\n",
    "    model.constraints.add(\n",
    "        EmpWeeklyMaxDays[Employee] >= sum(\n",
    "            model.dayWorks[Employee, Day] for Day in Days) \n",
    "    )"
   ]
  },
  {
   "cell_type": "markdown",
   "metadata": {},
   "source": [
    "#### 9. Pinned and must assign tasks for employees"
   ]
  },
  {
   "cell_type": "code",
   "execution_count": null,
   "metadata": {},
   "outputs": [],
   "source": [
    "PinnedTaskList"
   ]
  },
  {
   "cell_type": "code",
   "execution_count": null,
   "metadata": {},
   "outputs": [],
   "source": [
    "for (Employee, Day, TSlot, Assignment) in PinnedTaskList:\n",
    "    model.constraints.add(\n",
    "        1 == model.works[Employee, Day, TSlot, Assignment] \n",
    "    )"
   ]
  },
  {
   "cell_type": "code",
   "execution_count": null,
   "metadata": {},
   "outputs": [],
   "source": [
    "# Constraint - An employee can't be allocated to one task more than once within the day\n",
    "# for Employee in Employees:\n",
    "#     for Assignment in Assignments: \n",
    "#         model.constraints.add(\n",
    "#             1 >= sum(model.works[Employee, TSlot, Assignment] - model.works[Employee, getPreviousTimeslot(TSlot), Assignment] \n",
    "#               for TSlot in TSlots[1:] if ((Employee,getPreviousTimeslot(TSlot), Assignment) in model.works and (Employee,TSlot, Assignment) in model.works ))\n",
    "#         )\n"
   ]
  },
  {
   "cell_type": "code",
   "execution_count": null,
   "metadata": {},
   "outputs": [],
   "source": [
    "# Constraint - An employee must work in one section atleast for an hour\n",
    "#TODO: Should be able to take the minimum hours to work in a section as an input\n",
    "\n"
   ]
  },
  {
   "cell_type": "markdown",
   "metadata": {},
   "source": [
    "#### 10. Generate schedule according to employee work status (eligibility)"
   ]
  },
  {
   "cell_type": "code",
   "execution_count": null,
   "metadata": {
    "scrolled": true
   },
   "outputs": [],
   "source": [
    "eligibleList"
   ]
  },
  {
   "cell_type": "code",
   "execution_count": null,
   "metadata": {},
   "outputs": [],
   "source": [
    "ineligibleList"
   ]
  },
  {
   "cell_type": "code",
   "execution_count": null,
   "metadata": {},
   "outputs": [],
   "source": [
    "# Add constraint to model according to the eligibility\n",
    "\n",
    "# Eligible employees\n",
    "for (Day, Employee) in eligibleList:\n",
    "    model.constraints.add(\n",
    "        1 == model.dayWorks[Employee, Day]\n",
    "    )\n",
    "\n",
    "# Ineligible employees\n",
    "for (Day, Employee) in ineligibleList:\n",
    "    model.constraints.add(\n",
    "        0 == model.dayWorks[Employee, Day]\n",
    "    )"
   ]
  },
  {
   "cell_type": "markdown",
   "metadata": {},
   "source": [
    "#### 11. Limit employee to time period"
   ]
  },
  {
   "cell_type": "code",
   "execution_count": null,
   "metadata": {
    "scrolled": true
   },
   "outputs": [],
   "source": [
    "eligibleListWithTime"
   ]
  },
  {
   "cell_type": "code",
   "execution_count": null,
   "metadata": {},
   "outputs": [],
   "source": [
    "model.works.pprint()"
   ]
  },
  {
   "cell_type": "code",
   "execution_count": null,
   "metadata": {
    "scrolled": false
   },
   "outputs": [],
   "source": [
    "from datetime import datetime\n",
    "\n",
    "activeHours = list()\n",
    "hours = list()\n",
    "\n",
    "for (Day, Employee, Start_Time, End_Time) in eligibleListWithTime:\n",
    "    emp = Employee\n",
    "    day = Day\n",
    "    slot_time = 15\n",
    "    day = datetime.strptime(Day, '%d/%M/%Y').date()\n",
    "    start_time = datetime.strptime(Start_Time, '%I:%M:%S %p')\n",
    "    start_time = datetime.combine(day, start_time.time())\n",
    "    end_time = datetime.strptime(End_Time, '%I:%M:%S %p')\n",
    "    end_time = datetime.combine(day, end_time.time())\n",
    "    print(start_time)\n",
    "    print(end_time)\n",
    "\n",
    "    # start = start_time.strftime(start_time, '%I:%M:%S %p')\n",
    "    # print(time + timedelta(minutes=slot_time))\n",
    "    # print(end)\n",
    "#     hours.append(time)\n",
    "    while start_time < end_time:\n",
    "        start_time = start_time + timedelta(minutes=slot_time)\n",
    "        start = start_time.strftime('%H:%M')        \n",
    "        for Employee in Employees:\n",
    "            if Employee == emp:\n",
    "                for Day in Days:\n",
    "                    if Day == day:\n",
    "                        for TSlot in TSlots:\n",
    "                            for Assignment in Assignments:\n",
    "                                try:\n",
    "                                    if TSlot>= start_time.time() or TSlot< end_time.time():\n",
    "                                        model.constraints.add(\n",
    "                                            1 == model.works[Employee, Day, TSlot, Assignment]\n",
    "                                            # 1 == model.works[Employee, Day, start_time.time()] \n",
    "                                        )\n",
    "                                        # print(Employee, Day, TSlot, Assignment + ' assigned 1')\n",
    "                                    else:\n",
    "                                        model.constraints.add(\n",
    "                                            0 == model.works[Employee, Day, TSlot, Assignment]\n",
    "                                            # 1 == model.works[Employee, Day, start_time.time()] \n",
    "                                        )\n",
    "                                        print(Employee, Day, TSlot, Assignment + ' assigned 0')\n",
    "                                except:\n",
    "                                    pass\n",
    "                                    # print(Employee, Day, TSlot, Assignment + ' NO INDEX')\n",
    "            \n",
    "#         try:\n",
    "#             model.constraints.add(\n",
    "#                 1 == model.works[Employee, Day, start_time.time()]\n",
    "#                 # 1 == model.works[Employee, Day, start_time.time()] \n",
    "#             )\n",
    "            \n",
    "#         except:\n",
    "#             print(Employee, Day, start)\n",
    "#         hours.append(start)\n",
    "# print(hours)"
   ]
  },
  {
   "cell_type": "code",
   "execution_count": null,
   "metadata": {},
   "outputs": [],
   "source": [
    "for Employee in Employees:\n",
    "    for Day in Days:\n",
    "        for TSlot in TSlots:\n",
    "            for Assignment in Ass_Tslots[(Day,TSlot)]:\n",
    "                print(Employee, Day, TSlot, Assignment)"
   ]
  },
  {
   "cell_type": "code",
   "execution_count": null,
   "metadata": {},
   "outputs": [],
   "source": [
    "opt = SolverFactory('cbc')\n",
    "results = opt.solve(model, tee=True)\n",
    "log_infeasible_constraints(model)  #Get infeasible constraints"
   ]
  },
  {
   "cell_type": "code",
   "execution_count": null,
   "metadata": {},
   "outputs": [],
   "source": [
    "model.dayWorks.pprint()"
   ]
  },
  {
   "cell_type": "code",
   "execution_count": null,
   "metadata": {},
   "outputs": [],
   "source": [
    "model.pprint()"
   ]
  },
  {
   "cell_type": "code",
   "execution_count": null,
   "metadata": {},
   "outputs": [],
   "source": [
    "# Print Employees who assigned to each assignment in all Time Slots\n",
    "\n",
    "Dic = {Day: {TSlot: {Assignment: [] for Assignment in Ass_Tslots[(Day,TSlot)]} for TSlot in TSlots} for Day in Days}\n",
    "for Employee in Employees:\n",
    "    for Day in Days:\n",
    "        for TSlot in TSlots:\n",
    "            for Assignment in Ass_Tslots[(Day,TSlot)]:\n",
    "                if model.works[Employee, Day, TSlot, Assignment] == 1:\n",
    "                    Dic[Day][TSlot][Assignment].append(Employee)"
   ]
  },
  {
   "cell_type": "markdown",
   "metadata": {},
   "source": [
    "### Day1 Schedule"
   ]
  },
  {
   "cell_type": "code",
   "execution_count": null,
   "metadata": {
    "scrolled": false
   },
   "outputs": [],
   "source": [
    "Day1 = Dic['15/11/2018']"
   ]
  },
  {
   "cell_type": "code",
   "execution_count": null,
   "metadata": {},
   "outputs": [],
   "source": [
    "#print(pd.DataFrame(Day1))"
   ]
  },
  {
   "cell_type": "code",
   "execution_count": null,
   "metadata": {
    "scrolled": true
   },
   "outputs": [],
   "source": [
    "day1Df =pd.DataFrame(Day1)\n",
    "day1Df.head(20)"
   ]
  },
  {
   "cell_type": "code",
   "execution_count": null,
   "metadata": {},
   "outputs": [],
   "source": [
    "day1Df.iloc[1]"
   ]
  },
  {
   "cell_type": "code",
   "execution_count": null,
   "metadata": {},
   "outputs": [],
   "source": [
    "Day2 = Dic['16/11/2018']"
   ]
  },
  {
   "cell_type": "code",
   "execution_count": null,
   "metadata": {
    "scrolled": true
   },
   "outputs": [],
   "source": [
    "day2Df =pd.DataFrame(Day2)\n",
    "day2Df.head(20)"
   ]
  },
  {
   "cell_type": "code",
   "execution_count": null,
   "metadata": {},
   "outputs": [],
   "source": [
    "day2Df.iloc[0]"
   ]
  },
  {
   "cell_type": "markdown",
   "metadata": {},
   "source": [
    "### Output Final Schedule"
   ]
  },
  {
   "cell_type": "code",
   "execution_count": null,
   "metadata": {
    "scrolled": true
   },
   "outputs": [],
   "source": [
    "#Employee Daily hours\n",
    "EmpAss = {}\n",
    "for Employee in Employees:    \n",
    "    for Day in Days:\n",
    "        hours = 0\n",
    "        for TSlot in TSlots:\n",
    "            for Assignment in Ass_Tslots[(Day, TSlot)]:\n",
    "                if model.works[Employee, Day, TSlot, Assignment] == 1:\n",
    "                    hours = hours + 0.25\n",
    "        EmpAss[(Day,Employee)] = hours\n",
    "EmpAss\n"
   ]
  },
  {
   "cell_type": "code",
   "execution_count": null,
   "metadata": {},
   "outputs": [],
   "source": [
    "#Employee Weekly hours\n",
    "EmpAss2 = {}\n",
    "for Employee in Employees:\n",
    "    hours = 0\n",
    "    for Day in Days:\n",
    "        for TSlot in TSlots:\n",
    "            for Assignment in Ass_Tslots[(Day, TSlot)]:\n",
    "                if model.works[Employee, Day, TSlot, Assignment] == 1:\n",
    "                    hours = hours + 0.25\n",
    "    EmpAss2[Employee] = hours\n",
    "EmpAss2\n"
   ]
  },
  {
   "cell_type": "code",
   "execution_count": null,
   "metadata": {
    "scrolled": true
   },
   "outputs": [],
   "source": [
    "from datetime import datetime\n",
    "\n",
    "day1Df = day1Df.fillna(0)\n",
    "columns = ['Task','Start', 'Finish', 'Resource']\n",
    "day1EmpAssign = pd.DataFrame()\n",
    "day1Df\n",
    "day1Date = datetime(2018, 11, 15).date()\n",
    "print(day1Date)\n",
    "# 15th employee schedule\n",
    "for index, value in day1Df.iterrows():\n",
    "    for col in day1Df.columns:\n",
    "        try:            \n",
    "            for emp in value[col]:\n",
    "                dateWithTime = (datetime.combine(day1Date,col))\n",
    "                day1EmpAssign = day1EmpAssign.append([[emp, dateWithTime, dateWithTime + timedelta(minutes=15), index]])\n",
    "        except:\n",
    "            None\n",
    "        \n",
    "day1EmpAssign.columns = columns\n",
    "# day1EmpAssign.set_index('Employee', inplace=True)\n",
    "# day1EmpAssignGrouped = day1EmpAssign.groupby('Employee')\n",
    "day1EmpAssign"
   ]
  },
  {
   "cell_type": "code",
   "execution_count": null,
   "metadata": {
    "scrolled": true
   },
   "outputs": [],
   "source": [
    "import plotly.figure_factory as ff\n",
    "\n",
    "#fig = ff.create_gantt(day1EmpAssign)\n",
    "\n",
    "fig = ff.create_gantt(day1EmpAssign, index_col='Resource', title='Daily Schedule',\n",
    "                      show_colorbar=True, showgrid_x=True, group_tasks=True)\n",
    "fig.show()"
   ]
  },
  {
   "cell_type": "code",
   "execution_count": null,
   "metadata": {},
   "outputs": [],
   "source": []
  },
  {
   "cell_type": "code",
   "execution_count": null,
   "metadata": {},
   "outputs": [],
   "source": []
  }
 ],
 "metadata": {
  "kernelspec": {
   "display_name": "Python 3",
   "language": "python",
   "name": "python3"
  },
  "language_info": {
   "codemirror_mode": {
    "name": "ipython",
    "version": 3
   },
   "file_extension": ".py",
   "mimetype": "text/x-python",
   "name": "python",
   "nbconvert_exporter": "python",
   "pygments_lexer": "ipython3",
   "version": "3.7.6"
  }
 },
 "nbformat": 4,
 "nbformat_minor": 2
}
